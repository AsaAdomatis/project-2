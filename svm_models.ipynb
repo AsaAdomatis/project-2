{
 "cells": [
  {
   "cell_type": "code",
   "execution_count": 2,
   "metadata": {},
   "outputs": [],
   "source": [
    "import pandas as pd\n",
    "import model_builder as mb\n",
    "from sklearn.svm import SVC"
   ]
  },
  {
   "cell_type": "code",
   "execution_count": null,
   "metadata": {},
   "outputs": [
    {
     "name": "stdout",
     "output_type": "stream",
     "text": [
      "Training SVM_rbf for hyperparameters: {'C': [1, 10, 100], 'gamma': ['scale', 'auto']}\n"
     ]
    }
   ],
   "source": [
    "svm_rbf = {\n",
    "    \"SVM_rbf\": {\n",
    "        \"model\": SVC,\n",
    "        \"hyperparameters\": {\n",
    "            'C': [1, 10, 100], # adjusts level of overfitting. higher overfits, lower, under\n",
    "            'gamma': ['scale', 'auto'] # adjusts complexity of boundaries, high overfits, lower underfits\n",
    "        },\n",
    "        \"add_qualitative\": True,\n",
    "        \"balancing\": \"SMOTEEN\"\n",
    "    }\n",
    "}\n",
    "svm_rbf_df = mb.train_models(models=svm_rbf)\n",
    "svm_rbf_df.to_csv(\"models_svm_rbf.csv\")"
   ]
  },
  {
   "cell_type": "code",
   "execution_count": null,
   "metadata": {},
   "outputs": [],
   "source": [
    "svm_poly = {\n",
    "    \"SVM_poly\": {\n",
    "        \"model\": SVC,\n",
    "        \"hyperparameters\": {\n",
    "            'coef0': [0, 1],\n",
    "            'degree': [2, 3, 5],\n",
    "            'C': [1, 10, 100, 500, 1000], # adjusts level of overfitting. higher overfits, lower, under\n",
    "            'gamma': ['scale', 'auto'] # adjusts complexity of boundaries, high overfits, lower underfits\n",
    "        },\n",
    "        \"add_qualitative\": True,\n",
    "        \"balancing\": \"SMOTEEN\"\n",
    "    }\n",
    "}\n",
    "svm_poly_df = mb.train_models(models=svm_rbf)\n",
    "svm_poly_df.to_csv(\"models_svm_poly.csv\")"
   ]
  },
  {
   "cell_type": "code",
   "execution_count": null,
   "metadata": {},
   "outputs": [],
   "source": [
    "svm_linear = {\n",
    "    \"SVM_linear\": {\n",
    "        \"model\": SVC,\n",
    "        \"hyperparameters\": {\n",
    "            'C': [1, 10, 100], # adjusts level of overfitting. higher overfits, lower, under\n",
    "            'gamma': ['scale', 'auto'], # adjusts complexity of boundaries, high overfits, lower underfits\n",
    "            'kernel': ['linear']\n",
    "        },\n",
    "        \"add_qualitative\": True,\n",
    "        \"balancing\": \"SMOTEEN\"\n",
    "    }\n",
    "}\n",
    "svm_linear_df = mb.train_models(models=svm_linear)\n",
    "svm_linear_df.to_csv(\"models_svm_linear.csv\")"
   ]
  }
 ],
 "metadata": {
  "kernelspec": {
   "display_name": "dev",
   "language": "python",
   "name": "python3"
  },
  "language_info": {
   "codemirror_mode": {
    "name": "ipython",
    "version": 3
   },
   "file_extension": ".py",
   "mimetype": "text/x-python",
   "name": "python",
   "nbconvert_exporter": "python",
   "pygments_lexer": "ipython3",
   "version": "3.13.0"
  }
 },
 "nbformat": 4,
 "nbformat_minor": 2
}
