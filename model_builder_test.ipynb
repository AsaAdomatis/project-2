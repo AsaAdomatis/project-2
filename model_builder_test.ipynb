{
 "cells": [
  {
   "cell_type": "code",
   "execution_count": 2,
   "metadata": {},
   "outputs": [
    {
     "name": "stderr",
     "output_type": "stream",
     "text": [
      "[nltk_data] Downloading package stopwords to\n",
      "[nltk_data]     C:\\Users\\Asa\\AppData\\Roaming\\nltk_data...\n",
      "[nltk_data]   Package stopwords is already up-to-date!\n",
      "[nltk_data] Downloading package punkt to\n",
      "[nltk_data]     C:\\Users\\Asa\\AppData\\Roaming\\nltk_data...\n",
      "[nltk_data]   Package punkt is already up-to-date!\n"
     ]
    }
   ],
   "source": [
    "import pandas as pd\n",
    "import model_builder as mb\n"
   ]
  },
  {
   "cell_type": "code",
   "execution_count": 3,
   "metadata": {},
   "outputs": [
    {
     "name": "stdout",
     "output_type": "stream",
     "text": [
      "Training complement_bayes for hyperparameters: {'alpha': [0.01, 0.1, 1.0], 'norm': [True, False]}\n",
      "Output: {'0': {'precision': 0.9903846153846154, 'recall': 0.823612417685795, 'f1-score': 0.8993323061119671, 'support': 4252.0}, '1': {'precision': 0.19700214132762311, 'recall': 0.8440366972477065, 'f1-score': 0.3194444444444444, 'support': 218.0}, 'accuracy': 0.8246085011185682, 'macro avg': {'precision': 0.5936933783561192, 'recall': 0.8338245574667507, 'f1-score': 0.6093883752782058, 'support': 4470.0}, 'weighted avg': {'precision': 0.95169168935678, 'recall': 0.8246085011185682, 'f1-score': 0.8710514215832154, 'support': 4470.0}, 'name': 'complement_bayes', 'best_params': {'alpha': 0.01, 'norm': False}}\n",
      "Training multinomial_bayes for hyperparameters: {'alpha': [0.01, 0.1, 1.0]}\n",
      "Output: {'0': {'precision': 0.9923570773463772, 'recall': 0.7603654251581167, 'f1-score': 0.8610079575596817, 'support': 4269.0}, '1': {'precision': 0.14678899082568808, 'recall': 0.8756218905472637, 'f1-score': 0.25142857142857145, 'support': 201.0}, 'accuracy': 0.7655480984340045, 'macro avg': {'precision': 0.5695730340860327, 'recall': 0.8179936578526902, 'f1-score': 0.5562182644941266, 'support': 4470.0}, 'weighted avg': {'precision': 0.9543348882209503, 'recall': 0.7655480984340045, 'f1-score': 0.8335973408678802, 'support': 4470.0}, 'name': 'multinomial_bayes', 'best_params': {'alpha': 0.01}}\n"
     ]
    },
    {
     "data": {
      "text/html": [
       "<div>\n",
       "<style scoped>\n",
       "    .dataframe tbody tr th:only-of-type {\n",
       "        vertical-align: middle;\n",
       "    }\n",
       "\n",
       "    .dataframe tbody tr th {\n",
       "        vertical-align: top;\n",
       "    }\n",
       "\n",
       "    .dataframe thead th {\n",
       "        text-align: right;\n",
       "    }\n",
       "</style>\n",
       "<table border=\"1\" class=\"dataframe\">\n",
       "  <thead>\n",
       "    <tr style=\"text-align: right;\">\n",
       "      <th></th>\n",
       "      <th>0</th>\n",
       "      <th>1</th>\n",
       "      <th>accuracy</th>\n",
       "      <th>macro avg</th>\n",
       "      <th>weighted avg</th>\n",
       "      <th>name</th>\n",
       "      <th>best_params</th>\n",
       "    </tr>\n",
       "  </thead>\n",
       "  <tbody>\n",
       "    <tr>\n",
       "      <th>0</th>\n",
       "      <td>{'precision': 0.9903846153846154, 'recall': 0....</td>\n",
       "      <td>{'precision': 0.19700214132762311, 'recall': 0...</td>\n",
       "      <td>0.824609</td>\n",
       "      <td>{'precision': 0.5936933783561192, 'recall': 0....</td>\n",
       "      <td>{'precision': 0.95169168935678, 'recall': 0.82...</td>\n",
       "      <td>complement_bayes</td>\n",
       "      <td>{'alpha': 0.01, 'norm': False}</td>\n",
       "    </tr>\n",
       "    <tr>\n",
       "      <th>1</th>\n",
       "      <td>{'precision': 0.9923570773463772, 'recall': 0....</td>\n",
       "      <td>{'precision': 0.14678899082568808, 'recall': 0...</td>\n",
       "      <td>0.765548</td>\n",
       "      <td>{'precision': 0.5695730340860327, 'recall': 0....</td>\n",
       "      <td>{'precision': 0.9543348882209503, 'recall': 0....</td>\n",
       "      <td>multinomial_bayes</td>\n",
       "      <td>{'alpha': 0.01}</td>\n",
       "    </tr>\n",
       "  </tbody>\n",
       "</table>\n",
       "</div>"
      ],
      "text/plain": [
       "                                                   0  \\\n",
       "0  {'precision': 0.9903846153846154, 'recall': 0....   \n",
       "1  {'precision': 0.9923570773463772, 'recall': 0....   \n",
       "\n",
       "                                                   1  accuracy  \\\n",
       "0  {'precision': 0.19700214132762311, 'recall': 0...  0.824609   \n",
       "1  {'precision': 0.14678899082568808, 'recall': 0...  0.765548   \n",
       "\n",
       "                                           macro avg  \\\n",
       "0  {'precision': 0.5936933783561192, 'recall': 0....   \n",
       "1  {'precision': 0.5695730340860327, 'recall': 0....   \n",
       "\n",
       "                                        weighted avg               name  \\\n",
       "0  {'precision': 0.95169168935678, 'recall': 0.82...   complement_bayes   \n",
       "1  {'precision': 0.9543348882209503, 'recall': 0....  multinomial_bayes   \n",
       "\n",
       "                      best_params  \n",
       "0  {'alpha': 0.01, 'norm': False}  \n",
       "1                 {'alpha': 0.01}  "
      ]
     },
     "execution_count": 3,
     "metadata": {},
     "output_type": "execute_result"
    }
   ],
   "source": [
    "df = mb.train_models()\n",
    "df.to_csv(\"models_final.csv\")\n",
    "df.head()"
   ]
  }
 ],
 "metadata": {
  "kernelspec": {
   "display_name": "dev",
   "language": "python",
   "name": "python3"
  },
  "language_info": {
   "codemirror_mode": {
    "name": "ipython",
    "version": 3
   },
   "file_extension": ".py",
   "mimetype": "text/x-python",
   "name": "python",
   "nbconvert_exporter": "python",
   "pygments_lexer": "ipython3",
   "version": "3.13.0"
  }
 },
 "nbformat": 4,
 "nbformat_minor": 2
}
