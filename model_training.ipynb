# Import necessary libraries
import pandas as pd
import numpy as np
import scipy.sparse as sp
from scipy.sparse import csr_matrix
from sklearn.model_selection import train_test_split
from sklearn.feature_extraction.text import TfidfVectorizer
from sklearn.preprocessing import LabelEncoder
from sklearn.linear_model import LogisticRegression
from sklearn.metrics import accuracy_score, classification_report
from imblearn.over_sampling import SMOTE

# Load the dataset
file_path = "fake_job_postings.csv"  # Ensure your file path is correct
df = pd.read_csv(file_path)

# Drop irrelevant columns
df = df.drop(columns=['job_id'], errors='ignore')

# Handle categorical features using Label Encoding
categorical_cols = ['employment_type', 'required_experience', 'required_education', 'industry', 'function']
for col in categorical_cols:
    df[col] = df[col].fillna('Unknown')  # Fill missing values
    le = LabelEncoder()
    df[col] = le.fit_transform(df[col])

# Handle text-based features using TF-IDF vectorization
text_features = ['title', 'company_profile', 'description', 'requirements', 'benefits']
df[text_features] = df[text_features].fillna('')  # Fill missing text with empty strings
tfidf = TfidfVectorizer(max_features=5000)  # Convert text into TF-IDF features
text_vectors = tfidf.fit_transform(df[text_features].apply(lambda x: ' '.join(x), axis=1))

# Use numerical columns as they are
numerical_cols = ['telecommuting', 'has_company_logo', 'has_questions'] + categorical_cols
numerical_data = df[numerical_cols]

# Convert numerical data to sparse format
numerical_sparse = csr_matrix(numerical_data.values)

# Ensure the dimensions match
assert text_vectors.shape[0] == numerical_sparse.shape[0], "Mismatch in number of rows between text and numerical data."

# Stack text and numerical features
X = sp.hstack([text_vectors, numerical_sparse])
y = df['fraudulent']

# Handle class imbalance using SMOTE
smote = SMOTE(random_state=42)
X_resampled, y_resampled = smote.fit_resample(X, y)

# Split dataset into training and testing sets
X_train, X_test, y_train, y_test = train_test_split(X_resampled, y_resampled, test_size=0.2, random_state=42, stratify=y_resampled)

# Train Logistic Regression model
model = LogisticRegression(max_iter=1000)
model.fit(X_train, y_train)

# Make predictions
y_pred = model.predict(X_test)

# Evaluate the model
accuracy = accuracy_score(y_test, y_pred)
report = classification_report(y_test, y_pred)

# Print results
print(f"Accuracy: {accuracy:.4f}")
print("Classification Report:\n", report)
