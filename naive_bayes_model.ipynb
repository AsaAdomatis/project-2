{
 "cells": [
  {
   "cell_type": "markdown",
   "metadata": {},
   "source": [
    "# Naïve Bayes Classification Model"
   ]
  },
  {
   "cell_type": "code",
   "execution_count": 16,
   "metadata": {},
   "outputs": [],
   "source": [
    "# importing modules\n",
    "import pandas as pd\n",
    "from sklearn.metrics import classification_report\n",
    "from sklearn.model_selection import train_test_split\n",
    "from sklearn.feature_extraction.text import TfidfVectorizer\n",
    "from sklearn.naive_bayes import MultinomialNB"
   ]
  },
  {
   "cell_type": "code",
   "execution_count": 17,
   "metadata": {},
   "outputs": [
    {
     "data": {
      "text/plain": [
       "0    Food52, a fast-growing, James Beard Award-winn...\n",
       "1    Organised - Focused - Vibrant - Awesome!Do you...\n",
       "2    Our client, located in Houston, is actively se...\n",
       "3    THE COMPANY: ESRI – Environmental Systems Rese...\n",
       "4    JOB TITLE: Itemization Review ManagerLOCATION:...\n",
       "dtype: object"
      ]
     },
     "execution_count": 17,
     "metadata": {},
     "output_type": "execute_result"
    }
   ],
   "source": [
    "# getting original text data\n",
    "base_df = pd.read_csv(\"fake_job_postings.csv\")\n",
    "y = base_df[\"fraudulent\"]\n",
    "X = base_df[\"description\"].fillna(\"\") + \" \" + base_df[\"company_profile\"].fillna(\"\") + \" \" + base_df[\"requirements\"].fillna(\" \")\n",
    "X.head()"
   ]
  },
  {
   "cell_type": "code",
   "execution_count": 18,
   "metadata": {},
   "outputs": [],
   "source": [
    "# splitting data\n",
    "X_train, X_test, y_train, y_test = train_test_split(X, y)"
   ]
  },
  {
   "cell_type": "markdown",
   "metadata": {},
   "source": [
    "## Vectorizing the Data with TfiDF"
   ]
  },
  {
   "cell_type": "code",
   "execution_count": 21,
   "metadata": {},
   "outputs": [],
   "source": [
    "# vectorizing the data\n",
    "vectorizer = TfidfVectorizer(stop_words=\"english\")  # Remove common words\n",
    "X_train_tfidf = vectorizer.fit_transform(X_train)  # Fit and transform training data\n",
    "X_test_tfidf = vectorizer.transform(X_test)  # Transform test data"
   ]
  },
  {
   "cell_type": "code",
   "execution_count": 22,
   "metadata": {},
   "outputs": [
    {
     "name": "stdout",
     "output_type": "stream",
     "text": [
      "              precision    recall  f1-score   support\n",
      "\n",
      "           0       0.95      1.00      0.98      4263\n",
      "           1       1.00      0.00      0.01       207\n",
      "\n",
      "    accuracy                           0.95      4470\n",
      "   macro avg       0.98      0.50      0.49      4470\n",
      "weighted avg       0.96      0.95      0.93      4470\n",
      "\n"
     ]
    }
   ],
   "source": [
    "nb_model = MultinomialNB()\n",
    "nb_model.fit(X_train_tfidf, y_train)\n",
    "\n",
    "y_pred = nb_model.predict(X_test_tfidf)\n",
    "\n",
    "print(classification_report(y_test, y_pred))"
   ]
  },
  {
   "cell_type": "markdown",
   "metadata": {},
   "source": [
    "### TfiDF with Resampling - Oversampling"
   ]
  },
  {
   "cell_type": "code",
   "execution_count": 29,
   "metadata": {},
   "outputs": [],
   "source": [
    "# oversampling the fraudulent columns\n",
    "from imblearn.over_sampling import RandomOverSampler\n",
    "\n",
    "ros = RandomOverSampler(sampling_strategy='auto', random_state=42)\n",
    "X_train_tfidf_oversampled, y_train_oversampled = ros.fit_resample(X_train_tfidf, y_train)"
   ]
  },
  {
   "cell_type": "code",
   "execution_count": 31,
   "metadata": {},
   "outputs": [
    {
     "name": "stdout",
     "output_type": "stream",
     "text": [
      "              precision    recall  f1-score   support\n",
      "\n",
      "           0       0.99      0.96      0.98      4263\n",
      "           1       0.52      0.86      0.65       207\n",
      "\n",
      "    accuracy                           0.96      4470\n",
      "   macro avg       0.76      0.91      0.81      4470\n",
      "weighted avg       0.97      0.96      0.96      4470\n",
      "\n"
     ]
    }
   ],
   "source": [
    "# building the model with the oversampling\n",
    "nb_model = MultinomialNB()\n",
    "nb_model.fit(X_train_tfidf_oversampled, y_train_oversampled)\n",
    "y_pred = nb_model.predict(X_test_tfidf)\n",
    "print(classification_report(y_test, y_pred))"
   ]
  },
  {
   "cell_type": "markdown",
   "metadata": {},
   "source": [
    "### TfiDF with Resampling - Undersampling"
   ]
  },
  {
   "cell_type": "code",
   "execution_count": 33,
   "metadata": {},
   "outputs": [
    {
     "name": "stdout",
     "output_type": "stream",
     "text": [
      "              precision    recall  f1-score   support\n",
      "\n",
      "           0       0.99      0.91      0.95      4263\n",
      "           1       0.31      0.88      0.46       207\n",
      "\n",
      "    accuracy                           0.90      4470\n",
      "   macro avg       0.65      0.89      0.70      4470\n",
      "weighted avg       0.96      0.90      0.92      4470\n",
      "\n"
     ]
    }
   ],
   "source": [
    "# undersampling the unfraudulent columns\n",
    "from imblearn.under_sampling import RandomUnderSampler\n",
    "\n",
    "# undersampling\n",
    "rus = RandomUnderSampler(sampling_strategy='auto', random_state=42)\n",
    "X_train_tfidf_undersampled, y_train_undersampled = rus.fit_resample(X_train_tfidf, y_train)\n",
    "\n",
    "# building the model with the undersampling\n",
    "nb_model = MultinomialNB()\n",
    "nb_model.fit(X_train_tfidf_undersampled, y_train_undersampled)\n",
    "y_pred = nb_model.predict(X_test_tfidf)\n",
    "print(classification_report(y_test, y_pred))"
   ]
  },
  {
   "cell_type": "markdown",
   "metadata": {},
   "source": [
    "### TfiDF with Resampling - Balanced Sampling"
   ]
  },
  {
   "cell_type": "code",
   "execution_count": 34,
   "metadata": {},
   "outputs": [
    {
     "name": "stdout",
     "output_type": "stream",
     "text": [
      "              precision    recall  f1-score   support\n",
      "\n",
      "           0       1.00      0.89      0.94      4263\n",
      "           1       0.30      0.94      0.45       207\n",
      "\n",
      "    accuracy                           0.89      4470\n",
      "   macro avg       0.65      0.92      0.70      4470\n",
      "weighted avg       0.96      0.89      0.92      4470\n",
      "\n"
     ]
    }
   ],
   "source": [
    "# balancing the samples of both\n",
    "from imblearn.combine import SMOTEENN\n",
    "\n",
    "# balancing\n",
    "smoteen = SMOTEENN(random_state=42)\n",
    "X_train_tfidf_smoteen, y_train_smoteen = smoteen.fit_resample(X_train_tfidf, y_train)\n",
    "\n",
    "# building the model with balanced sampling\n",
    "nb_model = MultinomialNB()\n",
    "nb_model.fit(X_train_tfidf_smoteen, y_train_smoteen)\n",
    "y_pred = nb_model.predict(X_test_tfidf)\n",
    "print(classification_report(y_test, y_pred))"
   ]
  },
  {
   "cell_type": "code",
   "execution_count": null,
   "metadata": {},
   "outputs": [
    {
     "name": "stdout",
     "output_type": "stream",
     "text": [
      "              precision    recall  f1-score   support\n",
      "\n",
      "           0       0.99      0.97      0.98      9041\n",
      "           1       0.98      1.00      0.99     12751\n",
      "\n",
      "    accuracy                           0.99     21792\n",
      "   macro avg       0.99      0.98      0.99     21792\n",
      "weighted avg       0.99      0.99      0.99     21792\n",
      "\n"
     ]
    }
   ],
   "source": [
    "# checking the train accuracy to test for overfitting\n",
    "print(classification_report(y_train_smoteen, nb_model.predict(X_train_tfidf_smoteen)))"
   ]
  },
  {
   "cell_type": "markdown",
   "metadata": {},
   "source": [
    "## Vectorizing the Data with Count"
   ]
  },
  {
   "cell_type": "code",
   "execution_count": 25,
   "metadata": {},
   "outputs": [
    {
     "data": {
      "text/html": [
       "<div>\n",
       "<style scoped>\n",
       "    .dataframe tbody tr th:only-of-type {\n",
       "        vertical-align: middle;\n",
       "    }\n",
       "\n",
       "    .dataframe tbody tr th {\n",
       "        vertical-align: top;\n",
       "    }\n",
       "\n",
       "    .dataframe thead th {\n",
       "        text-align: right;\n",
       "    }\n",
       "</style>\n",
       "<table border=\"1\" class=\"dataframe\">\n",
       "  <thead>\n",
       "    <tr style=\"text-align: right;\">\n",
       "      <th></th>\n",
       "      <th>000</th>\n",
       "      <th>10</th>\n",
       "      <th>100</th>\n",
       "      <th>12</th>\n",
       "      <th>1500</th>\n",
       "      <th>18</th>\n",
       "      <th>20</th>\n",
       "      <th>200</th>\n",
       "      <th>30</th>\n",
       "      <th>40</th>\n",
       "      <th>...</th>\n",
       "      <th>world</th>\n",
       "      <th>worldwide</th>\n",
       "      <th>write</th>\n",
       "      <th>writing</th>\n",
       "      <th>written</th>\n",
       "      <th>year</th>\n",
       "      <th>years</th>\n",
       "      <th>york</th>\n",
       "      <th>young</th>\n",
       "      <th>και</th>\n",
       "    </tr>\n",
       "  </thead>\n",
       "  <tbody>\n",
       "    <tr>\n",
       "      <th>0</th>\n",
       "      <td>0</td>\n",
       "      <td>0</td>\n",
       "      <td>0</td>\n",
       "      <td>0</td>\n",
       "      <td>0</td>\n",
       "      <td>0</td>\n",
       "      <td>0</td>\n",
       "      <td>0</td>\n",
       "      <td>0</td>\n",
       "      <td>0</td>\n",
       "      <td>...</td>\n",
       "      <td>1</td>\n",
       "      <td>0</td>\n",
       "      <td>0</td>\n",
       "      <td>0</td>\n",
       "      <td>1</td>\n",
       "      <td>1</td>\n",
       "      <td>1</td>\n",
       "      <td>0</td>\n",
       "      <td>0</td>\n",
       "      <td>0</td>\n",
       "    </tr>\n",
       "    <tr>\n",
       "      <th>1</th>\n",
       "      <td>0</td>\n",
       "      <td>0</td>\n",
       "      <td>0</td>\n",
       "      <td>0</td>\n",
       "      <td>0</td>\n",
       "      <td>0</td>\n",
       "      <td>0</td>\n",
       "      <td>0</td>\n",
       "      <td>0</td>\n",
       "      <td>0</td>\n",
       "      <td>...</td>\n",
       "      <td>0</td>\n",
       "      <td>0</td>\n",
       "      <td>0</td>\n",
       "      <td>1</td>\n",
       "      <td>0</td>\n",
       "      <td>0</td>\n",
       "      <td>1</td>\n",
       "      <td>1</td>\n",
       "      <td>0</td>\n",
       "      <td>0</td>\n",
       "    </tr>\n",
       "    <tr>\n",
       "      <th>2</th>\n",
       "      <td>6</td>\n",
       "      <td>0</td>\n",
       "      <td>0</td>\n",
       "      <td>0</td>\n",
       "      <td>0</td>\n",
       "      <td>0</td>\n",
       "      <td>0</td>\n",
       "      <td>1</td>\n",
       "      <td>0</td>\n",
       "      <td>0</td>\n",
       "      <td>...</td>\n",
       "      <td>0</td>\n",
       "      <td>0</td>\n",
       "      <td>0</td>\n",
       "      <td>1</td>\n",
       "      <td>0</td>\n",
       "      <td>0</td>\n",
       "      <td>0</td>\n",
       "      <td>1</td>\n",
       "      <td>0</td>\n",
       "      <td>0</td>\n",
       "    </tr>\n",
       "    <tr>\n",
       "      <th>3</th>\n",
       "      <td>0</td>\n",
       "      <td>0</td>\n",
       "      <td>0</td>\n",
       "      <td>0</td>\n",
       "      <td>0</td>\n",
       "      <td>0</td>\n",
       "      <td>0</td>\n",
       "      <td>0</td>\n",
       "      <td>0</td>\n",
       "      <td>0</td>\n",
       "      <td>...</td>\n",
       "      <td>0</td>\n",
       "      <td>0</td>\n",
       "      <td>0</td>\n",
       "      <td>0</td>\n",
       "      <td>0</td>\n",
       "      <td>0</td>\n",
       "      <td>0</td>\n",
       "      <td>0</td>\n",
       "      <td>0</td>\n",
       "      <td>0</td>\n",
       "    </tr>\n",
       "    <tr>\n",
       "      <th>4</th>\n",
       "      <td>0</td>\n",
       "      <td>0</td>\n",
       "      <td>0</td>\n",
       "      <td>0</td>\n",
       "      <td>0</td>\n",
       "      <td>0</td>\n",
       "      <td>0</td>\n",
       "      <td>0</td>\n",
       "      <td>0</td>\n",
       "      <td>0</td>\n",
       "      <td>...</td>\n",
       "      <td>0</td>\n",
       "      <td>0</td>\n",
       "      <td>0</td>\n",
       "      <td>0</td>\n",
       "      <td>0</td>\n",
       "      <td>0</td>\n",
       "      <td>1</td>\n",
       "      <td>0</td>\n",
       "      <td>0</td>\n",
       "      <td>0</td>\n",
       "    </tr>\n",
       "  </tbody>\n",
       "</table>\n",
       "<p>5 rows × 1000 columns</p>\n",
       "</div>"
      ],
      "text/plain": [
       "   000  10  100  12  1500  18  20  200  30  40  ...  world  worldwide  write  \\\n",
       "0    0   0    0   0     0   0   0    0   0   0  ...      1          0      0   \n",
       "1    0   0    0   0     0   0   0    0   0   0  ...      0          0      0   \n",
       "2    6   0    0   0     0   0   0    1   0   0  ...      0          0      0   \n",
       "3    0   0    0   0     0   0   0    0   0   0  ...      0          0      0   \n",
       "4    0   0    0   0     0   0   0    0   0   0  ...      0          0      0   \n",
       "\n",
       "   writing  written  year  years  york  young  και  \n",
       "0        0        1     1      1     0      0    0  \n",
       "1        1        0     0      1     1      0    0  \n",
       "2        1        0     0      0     1      0    0  \n",
       "3        0        0     0      0     0      0    0  \n",
       "4        0        0     0      1     0      0    0  \n",
       "\n",
       "[5 rows x 1000 columns]"
      ]
     },
     "execution_count": 25,
     "metadata": {},
     "output_type": "execute_result"
    }
   ],
   "source": [
    "from sklearn.feature_extraction.text import CountVectorizer\n",
    "\n",
    "vectorizer = CountVectorizer(max_features=1000, stop_words=\"english\")\n",
    "X_train_CV = vectorizer.fit_transform(X_train)\n",
    "X_train_CV = pd.DataFrame(X_train_CV.toarray(), columns=vectorizer.get_feature_names_out())\n",
    "\n",
    "X_test_CV = vectorizer.transform(X_test)\n",
    "X_train_CV.head()"
   ]
  },
  {
   "cell_type": "code",
   "execution_count": 26,
   "metadata": {},
   "outputs": [
    {
     "name": "stdout",
     "output_type": "stream",
     "text": [
      "              precision    recall  f1-score   support\n",
      "\n",
      "           0       0.99      0.86      0.92      4263\n",
      "           1       0.22      0.80      0.35       207\n",
      "\n",
      "    accuracy                           0.86      4470\n",
      "   macro avg       0.61      0.83      0.64      4470\n",
      "weighted avg       0.95      0.86      0.90      4470\n",
      "\n"
     ]
    },
    {
     "name": "stderr",
     "output_type": "stream",
     "text": [
      "c:\\Users\\Asa\\miniconda3\\envs\\dev\\Lib\\site-packages\\sklearn\\utils\\validation.py:2739: UserWarning: X does not have valid feature names, but MultinomialNB was fitted with feature names\n",
      "  warnings.warn(\n"
     ]
    }
   ],
   "source": [
    "# training the model\n",
    "nb_model = MultinomialNB()\n",
    "nb_model.fit(X_train_CV, y_train)\n",
    "\n",
    "y_pred = nb_model.predict(X_test_CV)\n",
    "\n",
    "print(classification_report(y_test, y_pred))"
   ]
  },
  {
   "cell_type": "markdown",
   "metadata": {},
   "source": [
    "## Testing the Model with Some Fresh Data"
   ]
  },
  {
   "cell_type": "markdown",
   "metadata": {},
   "source": []
  }
 ],
 "metadata": {
  "kernelspec": {
   "display_name": "dev",
   "language": "python",
   "name": "python3"
  },
  "language_info": {
   "codemirror_mode": {
    "name": "ipython",
    "version": 3
   },
   "file_extension": ".py",
   "mimetype": "text/x-python",
   "name": "python",
   "nbconvert_exporter": "python",
   "pygments_lexer": "ipython3",
   "version": "3.13.0"
  }
 },
 "nbformat": 4,
 "nbformat_minor": 2
}
