{
 "cells": [
  {
   "cell_type": "code",
   "execution_count": 1,
   "metadata": {},
   "outputs": [],
   "source": [
    "# importing modules\n",
    "import pandas as pd\n",
    "from sklearn.model_selection import train_test_split\n",
    "from sklearn.metrics import accuracy_score, classification_report, make_scorer, recall_score\n",
    "from sklearn.feature_extraction.text import CountVectorizer\n",
    "from sklearn.model_selection import GridSearchCV\n",
    "from sklearn.svm import SVC"
   ]
  },
  {
   "cell_type": "code",
   "execution_count": 2,
   "metadata": {},
   "outputs": [
    {
     "data": {
      "text/html": [
       "<div>\n",
       "<style scoped>\n",
       "    .dataframe tbody tr th:only-of-type {\n",
       "        vertical-align: middle;\n",
       "    }\n",
       "\n",
       "    .dataframe tbody tr th {\n",
       "        vertical-align: top;\n",
       "    }\n",
       "\n",
       "    .dataframe thead th {\n",
       "        text-align: right;\n",
       "    }\n",
       "</style>\n",
       "<table border=\"1\" class=\"dataframe\">\n",
       "  <thead>\n",
       "    <tr style=\"text-align: right;\">\n",
       "      <th></th>\n",
       "      <th>Unnamed: 0</th>\n",
       "      <th>has_company_logo</th>\n",
       "      <th>has_questions</th>\n",
       "      <th>telecommuting</th>\n",
       "      <th>fraudulent</th>\n",
       "      <th>10</th>\n",
       "      <th>30</th>\n",
       "      <th>ability</th>\n",
       "      <th>able</th>\n",
       "      <th>about</th>\n",
       "      <th>...</th>\n",
       "      <th>required_education_Some College Coursework Completed</th>\n",
       "      <th>required_education_Some High School Coursework</th>\n",
       "      <th>required_education_Unspecified</th>\n",
       "      <th>required_education_Vocational</th>\n",
       "      <th>required_education_Vocational - Degree</th>\n",
       "      <th>required_education_Vocational - HS Diploma</th>\n",
       "      <th>has_location</th>\n",
       "      <th>has_company_profile</th>\n",
       "      <th>has_salary_range</th>\n",
       "      <th>has_benefits</th>\n",
       "    </tr>\n",
       "  </thead>\n",
       "  <tbody>\n",
       "    <tr>\n",
       "      <th>0</th>\n",
       "      <td>0</td>\n",
       "      <td>1</td>\n",
       "      <td>0</td>\n",
       "      <td>0</td>\n",
       "      <td>0</td>\n",
       "      <td>0</td>\n",
       "      <td>0</td>\n",
       "      <td>0</td>\n",
       "      <td>0</td>\n",
       "      <td>1</td>\n",
       "      <td>...</td>\n",
       "      <td>0</td>\n",
       "      <td>0</td>\n",
       "      <td>0</td>\n",
       "      <td>0</td>\n",
       "      <td>0</td>\n",
       "      <td>0</td>\n",
       "      <td>1</td>\n",
       "      <td>1</td>\n",
       "      <td>0</td>\n",
       "      <td>0</td>\n",
       "    </tr>\n",
       "    <tr>\n",
       "      <th>1</th>\n",
       "      <td>1</td>\n",
       "      <td>1</td>\n",
       "      <td>0</td>\n",
       "      <td>0</td>\n",
       "      <td>0</td>\n",
       "      <td>0</td>\n",
       "      <td>2</td>\n",
       "      <td>1</td>\n",
       "      <td>1</td>\n",
       "      <td>2</td>\n",
       "      <td>...</td>\n",
       "      <td>0</td>\n",
       "      <td>0</td>\n",
       "      <td>0</td>\n",
       "      <td>0</td>\n",
       "      <td>0</td>\n",
       "      <td>0</td>\n",
       "      <td>1</td>\n",
       "      <td>1</td>\n",
       "      <td>0</td>\n",
       "      <td>1</td>\n",
       "    </tr>\n",
       "    <tr>\n",
       "      <th>2</th>\n",
       "      <td>2</td>\n",
       "      <td>1</td>\n",
       "      <td>0</td>\n",
       "      <td>0</td>\n",
       "      <td>0</td>\n",
       "      <td>0</td>\n",
       "      <td>0</td>\n",
       "      <td>0</td>\n",
       "      <td>0</td>\n",
       "      <td>0</td>\n",
       "      <td>...</td>\n",
       "      <td>0</td>\n",
       "      <td>0</td>\n",
       "      <td>0</td>\n",
       "      <td>0</td>\n",
       "      <td>0</td>\n",
       "      <td>0</td>\n",
       "      <td>1</td>\n",
       "      <td>1</td>\n",
       "      <td>0</td>\n",
       "      <td>0</td>\n",
       "    </tr>\n",
       "    <tr>\n",
       "      <th>3</th>\n",
       "      <td>3</td>\n",
       "      <td>1</td>\n",
       "      <td>0</td>\n",
       "      <td>0</td>\n",
       "      <td>0</td>\n",
       "      <td>0</td>\n",
       "      <td>0</td>\n",
       "      <td>1</td>\n",
       "      <td>0</td>\n",
       "      <td>0</td>\n",
       "      <td>...</td>\n",
       "      <td>0</td>\n",
       "      <td>0</td>\n",
       "      <td>0</td>\n",
       "      <td>0</td>\n",
       "      <td>0</td>\n",
       "      <td>0</td>\n",
       "      <td>1</td>\n",
       "      <td>1</td>\n",
       "      <td>0</td>\n",
       "      <td>1</td>\n",
       "    </tr>\n",
       "    <tr>\n",
       "      <th>4</th>\n",
       "      <td>4</td>\n",
       "      <td>1</td>\n",
       "      <td>1</td>\n",
       "      <td>0</td>\n",
       "      <td>0</td>\n",
       "      <td>0</td>\n",
       "      <td>0</td>\n",
       "      <td>0</td>\n",
       "      <td>1</td>\n",
       "      <td>0</td>\n",
       "      <td>...</td>\n",
       "      <td>0</td>\n",
       "      <td>0</td>\n",
       "      <td>0</td>\n",
       "      <td>0</td>\n",
       "      <td>0</td>\n",
       "      <td>0</td>\n",
       "      <td>1</td>\n",
       "      <td>1</td>\n",
       "      <td>0</td>\n",
       "      <td>1</td>\n",
       "    </tr>\n",
       "  </tbody>\n",
       "</table>\n",
       "<p>5 rows × 534 columns</p>\n",
       "</div>"
      ],
      "text/plain": [
       "   Unnamed: 0  has_company_logo  has_questions  telecommuting  fraudulent  10  \\\n",
       "0           0                 1              0              0           0   0   \n",
       "1           1                 1              0              0           0   0   \n",
       "2           2                 1              0              0           0   0   \n",
       "3           3                 1              0              0           0   0   \n",
       "4           4                 1              1              0           0   0   \n",
       "\n",
       "   30  ability  able  about  ...  \\\n",
       "0   0        0     0      1  ...   \n",
       "1   2        1     1      2  ...   \n",
       "2   0        0     0      0  ...   \n",
       "3   0        1     0      0  ...   \n",
       "4   0        0     1      0  ...   \n",
       "\n",
       "   required_education_Some College Coursework Completed  \\\n",
       "0                                                  0      \n",
       "1                                                  0      \n",
       "2                                                  0      \n",
       "3                                                  0      \n",
       "4                                                  0      \n",
       "\n",
       "   required_education_Some High School Coursework  \\\n",
       "0                                               0   \n",
       "1                                               0   \n",
       "2                                               0   \n",
       "3                                               0   \n",
       "4                                               0   \n",
       "\n",
       "   required_education_Unspecified  required_education_Vocational  \\\n",
       "0                               0                              0   \n",
       "1                               0                              0   \n",
       "2                               0                              0   \n",
       "3                               0                              0   \n",
       "4                               0                              0   \n",
       "\n",
       "   required_education_Vocational - Degree  \\\n",
       "0                                       0   \n",
       "1                                       0   \n",
       "2                                       0   \n",
       "3                                       0   \n",
       "4                                       0   \n",
       "\n",
       "   required_education_Vocational - HS Diploma  has_location  \\\n",
       "0                                           0             1   \n",
       "1                                           0             1   \n",
       "2                                           0             1   \n",
       "3                                           0             1   \n",
       "4                                           0             1   \n",
       "\n",
       "   has_company_profile  has_salary_range  has_benefits  \n",
       "0                    1                 0             0  \n",
       "1                    1                 0             1  \n",
       "2                    1                 0             0  \n",
       "3                    1                 0             1  \n",
       "4                    1                 0             1  \n",
       "\n",
       "[5 rows x 534 columns]"
      ]
     },
     "execution_count": 2,
     "metadata": {},
     "output_type": "execute_result"
    }
   ],
   "source": [
    "# reading in the data\n",
    "df = pd.read_csv(\"fake_jobs_processed.csv\")\n",
    "df.head()"
   ]
  },
  {
   "cell_type": "code",
   "execution_count": 3,
   "metadata": {},
   "outputs": [],
   "source": [
    "# dropping duplicated index column, and separating into X and Y\n",
    "df.drop(inplace=True, columns=\"Unnamed: 0\", axis=1)\n",
    "X = df.drop(columns=\"fraudulent\", axis=1)\n",
    "y = df[\"fraudulent\"]\n",
    "\n",
    "# getting train test split\n",
    "X_train, X_test, y_train, y_test = train_test_split(X, y)"
   ]
  },
  {
   "cell_type": "markdown",
   "metadata": {},
   "source": [
    "## Base Model\n",
    "Here I'm using the base SVM model with a linear kernel to fine results. However, a linear kernel is probably not the best here, as we have no idea of the shape of the idea, and its not easily seperable."
   ]
  },
  {
   "cell_type": "code",
   "execution_count": null,
   "metadata": {},
   "outputs": [],
   "source": [
    "# testing a basic linear SVM model\n",
    "base_model = SVC(kernel='linear').fit(X_train, y_train)\n",
    "y_pred = base_model.predict(X_test)\n",
    "\n",
    "# getting the classification report\n",
    "print(classification_report(y_test, y_pred))"
   ]
  },
  {
   "cell_type": "markdown",
   "metadata": {},
   "source": [
    "## Radial Basis Function Kernel"
   ]
  },
  {
   "cell_type": "code",
   "execution_count": null,
   "metadata": {},
   "outputs": [
    {
     "name": "stdout",
     "output_type": "stream",
     "text": [
      "              precision    recall  f1-score   support\n",
      "\n",
      "           0       0.97      1.00      0.98      4265\n",
      "           1       1.00      0.25      0.40       205\n",
      "\n",
      "    accuracy                           0.97      4470\n",
      "   macro avg       0.98      0.62      0.69      4470\n",
      "weighted avg       0.97      0.97      0.96      4470\n",
      "\n"
     ]
    }
   ],
   "source": [
    "X_train, X_test, y_train, y_test = train_test_split(X, y)\n",
    "base_model = SVC(kernel='rbf').fit(X_train, y_train)\n",
    "y_pred = base_model.predict(X_test)\n",
    "print(classification_report(y_test, y_pred))"
   ]
  },
  {
   "cell_type": "code",
   "execution_count": 8,
   "metadata": {},
   "outputs": [
    {
     "name": "stdout",
     "output_type": "stream",
     "text": [
      "Best Parameters: {'C': 500, 'gamma': 'scale'}\n"
     ]
    }
   ],
   "source": [
    "# performing validation using GridSearch\n",
    "\n",
    "# Define the hyperparameter grid\n",
    "param_grid = {\n",
    "    'C': [1, 10, 100, 500, 1000], # adjusts level of overfitting. higher overfits, lower, under\n",
    "    'gamma': ['scale', 'auto'], # adjusts complexity of boundaries, high overfits, lower underfits\n",
    "}\n",
    "\n",
    "# making a scorer to target recall of the 1\n",
    "recall_scorer = make_scorer(recall_score, pos_label=1)\n",
    "\n",
    "# Perform Grid Search\n",
    "grid_search = GridSearchCV(SVC(kernel='rbf'), param_grid, cv=5, scoring=recall_scorer)\n",
    "grid_search.fit(X_train, y_train)\n",
    "\n",
    "# Print best hyperparameters\n",
    "print(\"Best Parameters:\", grid_search.best_params_)\n"
   ]
  },
  {
   "cell_type": "code",
   "execution_count": null,
   "metadata": {},
   "outputs": [
    {
     "name": "stdout",
     "output_type": "stream",
     "text": [
      "              precision    recall  f1-score   support\n",
      "\n",
      "           0       0.98      0.99      0.98      4239\n",
      "           1       0.73      0.70      0.72       231\n",
      "\n",
      "    accuracy                           0.97      4470\n",
      "   macro avg       0.86      0.84      0.85      4470\n",
      "weighted avg       0.97      0.97      0.97      4470\n",
      "\n"
     ]
    }
   ],
   "source": [
    "# building a model with the best parameters graded on recall\n",
    "X_train, X_test, y_train, y_test = train_test_split(X, y)\n",
    "validated_rbf_model = SVC(kernel='rbf', C=500, gamma='scale').fit(X_train, y_train)\n",
    "y_pred = validated_rbf_model.predict(X_test)\n",
    "print(classification_report(y_test, y_pred))\n"
   ]
  },
  {
   "cell_type": "code",
   "execution_count": 11,
   "metadata": {},
   "outputs": [
    {
     "name": "stdout",
     "output_type": "stream",
     "text": [
      "              precision    recall  f1-score   support\n",
      "\n",
      "           0       1.00      1.00      1.00     12775\n",
      "           1       1.00      1.00      1.00       635\n",
      "\n",
      "    accuracy                           1.00     13410\n",
      "   macro avg       1.00      1.00      1.00     13410\n",
      "weighted avg       1.00      1.00      1.00     13410\n",
      "\n"
     ]
    }
   ],
   "source": [
    "print(classification_report(y_train, validated_rbf_model.predict(X_train)))"
   ]
  },
  {
   "cell_type": "markdown",
   "metadata": {},
   "source": [
    "## Polynomial Kernel"
   ]
  },
  {
   "cell_type": "code",
   "execution_count": null,
   "metadata": {},
   "outputs": [
    {
     "name": "stdout",
     "output_type": "stream",
     "text": [
      "              precision    recall  f1-score   support\n",
      "\n",
      "           0       0.96      1.00      0.98      4246\n",
      "           1       1.00      0.14      0.25       224\n",
      "\n",
      "    accuracy                           0.96      4470\n",
      "   macro avg       0.98      0.57      0.61      4470\n",
      "weighted avg       0.96      0.96      0.94      4470\n",
      "\n"
     ]
    }
   ],
   "source": [
    "# basic model training\n",
    "X_train, X_test, y_train, y_test = train_test_split(X, y)\n",
    "base_model = SVC(kernel='poly').fit(X_train, y_train)\n",
    "y_pred = base_model.predict(X_test)\n",
    "print(classification_report(y_test, y_pred))"
   ]
  },
  {
   "cell_type": "code",
   "execution_count": null,
   "metadata": {},
   "outputs": [],
   "source": []
  },
  {
   "cell_type": "code",
   "execution_count": 12,
   "metadata": {},
   "outputs": [
    {
     "name": "stdout",
     "output_type": "stream",
     "text": [
      "Best Parameters: {'C': 1000, 'coef0': 1, 'degree': 2, 'gamma': 'scale'}\n"
     ]
    }
   ],
   "source": [
    "# performing validation using GridSearch\n",
    "\n",
    "# define hyperparameter options\n",
    "param_grid = {\n",
    "    'coef0': [0, 1],\n",
    "    'degree': [2, 3, 5],\n",
    "    'C': [1, 10, 100, 500, 1000], # adjusts level of overfitting. higher overfits, lower, under\n",
    "    'gamma': ['scale', 'auto'], # adjusts complexity of boundaries, high overfits, lower underfits\n",
    "}\n",
    "\n",
    "# performing grid search with poly\n",
    "grid_search = GridSearchCV(SVC(kernel='poly'), param_grid, cv=5, scoring=recall_scorer)\n",
    "grid_search.fit(X_train, y_train)\n",
    "\n",
    "# Print best hyperparameters\n",
    "print(\"Best Parameters:\", grid_search.best_params_)"
   ]
  }
 ],
 "metadata": {
  "kernelspec": {
   "display_name": "dev",
   "language": "python",
   "name": "python3"
  },
  "language_info": {
   "codemirror_mode": {
    "name": "ipython",
    "version": 3
   },
   "file_extension": ".py",
   "mimetype": "text/x-python",
   "name": "python",
   "nbconvert_exporter": "python",
   "pygments_lexer": "ipython3",
   "version": "3.13.0"
  }
 },
 "nbformat": 4,
 "nbformat_minor": 2
}
